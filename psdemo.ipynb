{
 "cells": [
  {
   "cell_type": "code",
   "execution_count": null,
   "metadata": {},
   "outputs": [],
   "source": [
    "import matplotlib.pyplot as plt\n",
    "import numpy as np \n",
    "import scipy\n",
    "from scipy.linalg import hadamard\n",
    "import scipy.signal\n",
    "import pylab\n",
    "from scipy.misc import derivative"
   ]
  },
  {
   "cell_type": "markdown",
   "metadata": {},
   "source": [
    "# Set up helper functions"
   ]
  },
  {
   "cell_type": "code",
   "execution_count": null,
   "metadata": {},
   "outputs": [],
   "source": [
    "def set_walsh_sim(N, n, stepperiod, verify=False):\n",
    "        \"\"\"\n",
    "        N: order of walsh matrix\n",
    "        n: walsh index to give this stream\n",
    "        stepperiod: period (2^?), in multiples of self.periodbase FPGA clocks,\n",
    "        of shortest walsh step. I.e., 2**13 * 2**self.baseperiod * N\n",
    "        = period of complete cycle in FPGA clocks.\n",
    "        \"\"\"\n",
    "        depth = 2**12\n",
    "        N_round = int(2**(np.ceil(np.log2(N))))\n",
    "        walsh_matrix = hadamard(N_round)\n",
    "        # reformat so 1 means multiply by -1, and 0 means multiply by 1\n",
    "        walsh_matrix[walsh_matrix == 1]  = 1\n",
    "        walsh_matrix[walsh_matrix == -1] = -1\n",
    "        walsh_func = walsh_matrix[n] # a vector of length N_round\n",
    "        walsh_func_stretch = walsh_func.repeat(2**stepperiod) # a vector of length N_round * 2*step_period\n",
    "        return walsh_func_stretch\n",
    "\n",
    "def spectrometer(timestream, sampling_rate, fft_length, num_spectra_integration):\n",
    "    \"\"\"\n",
    "    Create a spectrometer for a given timestream.\n",
    "\n",
    "    Parameters:\n",
    "    - timestream: The input time-domain signal.\n",
    "    - sampling_rate: The sampling rate of the timestream.\n",
    "    - fft_length: The length of the FFT.\n",
    "    - num_spectra_integration: The number of spectra to integrate for each result.\n",
    "\n",
    "    Returns:\n",
    "    - frequencies: Array of frequencies.\n",
    "    - integrated_spectra: List of integrated magnitude spectra.\n",
    "    \"\"\"\n",
    "    num_samples = len(timestream)\n",
    "    num_segments = int(num_samples / (sampling_rate * num_spectra_integration))\n",
    "    \n",
    "    frequencies = np.fft.fftfreq(fft_length, d=1/sampling_rate)[:fft_length//2]\n",
    "    spectra = []\n",
    "    integrated_spectra = []\n",
    "\n",
    "    for i in range(num_segments):\n",
    "        start_index = i * fft_length\n",
    "        end_index = start_index + fft_length\n",
    "        segment = timestream[start_index:end_index]\n",
    "        \n",
    "        # Perform FFT\n",
    "        spectrum = np.fft.fft(segment)[:fft_length//2]\n",
    "        magnitude_spectrum = np.abs(spectrum)\n",
    "        spectra.append(magnitude_spectrum)\n",
    "        \n",
    "    spectra = np.reshape(spectra,(num_segments,-1))\n",
    "    \n",
    "    print(spectra.shape)\n",
    "    # Integrate the spectra\n",
    "    for i in range(num_segments//num_spectra_integration):\n",
    "        start_index = (i)*num_spectra_integration \n",
    "        end_index = (i+1)*num_spectra_integration \n",
    "        integrated_spectra.append(np.sum(spectra[start_index:end_index],axis=1))\n",
    "\n",
    "    return frequencies, spectra\n",
    "\n",
    "def correlator(timestream0, timestream1, sampling_rate, fft_length, num_spectra_integration):\n",
    "    \"\"\"\n",
    "    Create a correlator for a given timestream.\n",
    "\n",
    "    Parameters:\n",
    "    - timestream0: The first input time-domain signal.\n",
    "    - timestream1: The second input time-domain signal.   \n",
    "    - sampling_rate: The sampling rate of the timestream.\n",
    "    - fft_length: The length of the FFT.\n",
    "    - num_spectra_integration: The number of spectra to integrate for each result.\n",
    "\n",
    "    Returns:\n",
    "    - frequencies: Array of frequencies.\n",
    "    - integrated_spectra: List of integrated correlation\n",
    "    \"\"\"\n",
    "    num_samples = len(timestream0)\n",
    "    num_segments = int(num_samples / (sampling_rate * num_spectra_integration))\n",
    "    \n",
    "    frequencies = np.fft.fftfreq(fft_length, d=1/sampling_rate)[:fft_length//2]\n",
    "    integrated_correlations = []\n",
    "\n",
    "    for i in range(num_segments):\n",
    "        start_index = i * int(sampling_rate * num_spectra_integration)\n",
    "        end_index = start_index + fft_length * num_spectra_integration\n",
    "        segment0 = timestream0[start_index:end_index]\n",
    "        segment1 = timestream1[start_index:end_index]\n",
    "        \n",
    "        # Perform FFT\n",
    "        spectrum0 = np.fft.fft(segment0)[:fft_length//2]\n",
    "        spectrum1 = np.fft.fft(segment1)[:fft_length//2]\n",
    "        correlation = abs(spectrum0*spectrum1)\n",
    "        \n",
    "        # Integrate the spectra\n",
    "        integrated_correlation = np.sum(np.reshape(correlation, (num_spectra_integration, -1)), axis=0)\n",
    "        integrated_correlations.append(integrated_correlation)\n",
    "\n",
    "    return frequencies, integrated_correlations"
   ]
  },
  {
   "cell_type": "markdown",
   "metadata": {},
   "source": [
    "# Code up Equation from Thompson"
   ]
  },
  {
   "cell_type": "markdown",
   "metadata": {},
   "source": [
    "Let U(t) be an unwanted system response, and U1(t) be the mean residual spurious voltage"
   ]
  },
  {
   "cell_type": "code",
   "execution_count": null,
   "metadata": {},
   "outputs": [],
   "source": [
    "def mrsv(T,M, u_m):\n",
    "   return(T**m/(2**(math.factorial(M)))*derivative(u_m))"
   ]
  },
  {
   "cell_type": "markdown",
   "metadata": {},
   "source": [
    "# Try to replicate Emerson ALMA Memo 537 "
   ]
  },
  {
   "cell_type": "code",
   "execution_count": null,
   "metadata": {},
   "outputs": [],
   "source": [
    "walsh_matrix = hadamard(32)\n",
    "# reformat so 1 means multiply by -1, and 0 means multiply by 1\n",
    "walsh_matrix[walsh_matrix == 1]  = 1\n",
    "walsh_matrix[walsh_matrix == -1] = -1"
   ]
  },
  {
   "cell_type": "markdown",
   "metadata": {},
   "source": [
    "Generate the first 32 walsh functions"
   ]
  },
  {
   "cell_type": "code",
   "execution_count": null,
   "metadata": {},
   "outputs": [],
   "source": [
    "#Generate walsh patterns of a length 8, which could be used for 8 seperate time streams\n",
    "fig,ax = plt.subplots(32,1)\n",
    "fig.set_size_inches(18.5, 38.5)\n",
    "for i in range(32):\n",
    "    ax[i].plot(walsh_matrix[i], label=i)\n",
    "    ax[i].set_title('wal('+str(i)+')')\n",
    "plt.legend()\n",
    "plt.tight_layout()\n",
    "plt.show()"
   ]
  },
  {
   "cell_type": "markdown",
   "metadata": {},
   "source": [
    "oversample the functions by 100 "
   ]
  },
  {
   "cell_type": "code",
   "execution_count": null,
   "metadata": {},
   "outputs": [],
   "source": [
    "#extend the number of samples for the walsh function to match the signal length \n",
    "print(walsh_matrix.shape)\n",
    "period_base = 100\n",
    "walshextended = np.zeros((32,3200))\n",
    "print(walshextended.shape)\n",
    "for i in range(32):\n",
    "    n= 0\n",
    "    n2 = period_base\n",
    "    for j in range(32):\n",
    "        extended = np.array(walsh_matrix[i][j].repeat(period_base))\n",
    "        walshextended[i][n:n2] = extended\n",
    "        n += period_base\n",
    "        n2 += period_base"
   ]
  },
  {
   "cell_type": "code",
   "execution_count": null,
   "metadata": {},
   "outputs": [],
   "source": [
    "fig,ax = plt.subplots(32,1)\n",
    "fig.set_size_inches(18.5, 28.5)\n",
    "for i in range(32):\n",
    "    ax[i].plot(walshextended[i])\n",
    "    #ax[i].set_title('wal('+str(i)+')')\n",
    "    ax[i].set_ylabel('wal('+str(i)+')', rotation=0, labelpad=30, fontsize=15)\n",
    "plt.tight_layout()\n",
    "plt.savefig('walsh_first_32.pdf',format='pdf')\n",
    "plt.show()"
   ]
  },
  {
   "cell_type": "markdown",
   "metadata": {},
   "source": [
    "reorder by number of zero crossings"
   ]
  },
  {
   "cell_type": "code",
   "execution_count": null,
   "metadata": {},
   "outputs": [],
   "source": [
    "sequency = {}\n",
    "for i in range(32):\n",
    "    wal_ind = ((walshextended[i][:-1] * walshextended[i][1:]) < 0).sum()\n",
    "    sequency[wal_ind] = walshextended[i]\n",
    "    \n",
    "    \n",
    "sorted_walsh = [sequency[key] for key in sorted(sequency)]\n",
    "\n",
    "sorted_inds = []\n",
    "for i in range(32):\n",
    "    wal_ind = ((sorted_walsh[i][:-1] * sorted_walsh[i][1:]) < 0).sum()\n",
    "    sorted_inds.append(wal_ind)"
   ]
  },
  {
   "cell_type": "code",
   "execution_count": null,
   "metadata": {},
   "outputs": [],
   "source": [
    "fig,ax = plt.subplots(32,1)\n",
    "fig.set_size_inches(18.5, 28.5)\n",
    "for i in range(32):\n",
    "    ax[i].plot(sorted_walsh[i])\n",
    "    ax[i].set_ylabel('wal('+str(i)+')', rotation=0, labelpad=30, fontsize=15)\n",
    "\n",
    "plt.tight_layout()\n",
    "plt.savefig('walsh_first_32_sequency.pdf',format='pdf')"
   ]
  },
  {
   "cell_type": "markdown",
   "metadata": {},
   "source": [
    "copy the signal so we can time shift "
   ]
  },
  {
   "cell_type": "code",
   "execution_count": null,
   "metadata": {},
   "outputs": [],
   "source": [
    "copy = sorted_walsh \n",
    "doubled = np.concatenate((sorted_walsh, copy), axis=1)\n",
    "print(doubled.shape)"
   ]
  },
  {
   "cell_type": "code",
   "execution_count": null,
   "metadata": {},
   "outputs": [],
   "source": [
    "fig,ax = plt.subplots(32,1)\n",
    "fig.set_size_inches(18.5, 38.5)\n",
    "for i in range(32):\n",
    "    ax[i].plot(doubled[i])\n",
    "    ax[i].set_title('wal('+str(i)+')')\n",
    "plt.tight_layout()\n",
    "plt.show()"
   ]
  },
  {
   "cell_type": "markdown",
   "metadata": {},
   "source": [
    "reorder by number of zero crossings"
   ]
  },
  {
   "cell_type": "markdown",
   "metadata": {},
   "source": [
    "shift by 1% of the shortest element (1), cross correlate, integrate over T"
   ]
  },
  {
   "cell_type": "code",
   "execution_count": null,
   "metadata": {},
   "outputs": [],
   "source": [
    "np.set_printoptions(threshold=np.inf)\n",
    "crosstalk = np.zeros((32,32))\n",
    "for i in range(32):\n",
    "    shifted = doubled[i][1:3201]\n",
    "    for j in range(32):\n",
    "        stable = doubled[j][0:3200]\n",
    "        crossprod = shifted*stable \n",
    "        resid = np.sum(crossprod)\n",
    "        crosstalk[i,j] = resid/3200"
   ]
  },
  {
   "cell_type": "code",
   "execution_count": null,
   "metadata": {},
   "outputs": [],
   "source": [
    "plt.figure(figsize=(20,20))\n",
    "fig.set_size_inches(18.5, 10.5)\n",
    "plt.imshow(abs(crosstalk),vmax=.01)\n",
    "plt.title('Crosstalk in 1% timing slip')\n",
    "plt.colorbar()\n",
    "fig.set_size_inches(18.5, 18.5)\n",
    "plt.savefig('crosstalk_matrix', format='pdf')"
   ]
  },
  {
   "cell_type": "code",
   "execution_count": null,
   "metadata": {},
   "outputs": [],
   "source": [
    "plt.figure(figsize=(20,20))\n",
    "plt.imshow(crosstalk,vmin=.98)\n",
    "plt.title('Signal Loss in 1% timing slip')\n",
    "fig.set_size_inches(18.5, 18.5)"
   ]
  },
  {
   "cell_type": "code",
   "execution_count": null,
   "metadata": {},
   "outputs": [],
   "source": [
    "plt.figure(figsize=(10,8))\n",
    "for i in range(32):\n",
    "    for j in range(32):\n",
    "        if i==j:\n",
    "            plt.title('Sequency vs. Sensitivity Loss',fontsize=20)\n",
    "            plt.scatter(sorted_inds[i],((1-crosstalk[i][j])*100), c='slateblue')\n",
    "            plt.xlabel('Sequency',fontsize=15)\n",
    "            plt.ylabel('Sensitivity Loss (%)', fontsize=15)\n",
    "plt.savefig('Sensitivity_loss.pdf',format='pdf')"
   ]
  },
  {
   "cell_type": "code",
   "execution_count": null,
   "metadata": {},
   "outputs": [],
   "source": [
    "#RSS Crosstalk\n",
    "rss = []\n",
    "for i in range(32):\n",
    "    summed = 0 \n",
    "    for j in range(32):\n",
    "        if i==j:\n",
    "            pass\n",
    "        else:\n",
    "            summed += (crosstalk[i][j])**2\n",
    "    rss.append(np.sqrt(summed)*100)"
   ]
  },
  {
   "cell_type": "code",
   "execution_count": null,
   "metadata": {},
   "outputs": [],
   "source": [
    "plt.figure(figsize=(10,8))\n",
    "plt.title('Sequency vs RSS Crosstalk', fontsize=20)\n",
    "plt.xlabel('Sequency', fontsize=15)\n",
    "plt.ylabel('RSS Crosstalk (%)', fontsize=15)\n",
    "plt.scatter(sorted_inds,rss)\n",
    "plt.savefig('rsscrosstalk.pdf',format='pdf')"
   ]
  },
  {
   "cell_type": "markdown",
   "metadata": {},
   "source": [
    "# What if the phase switch has an amplitude imbalance?"
   ]
  },
  {
   "cell_type": "markdown",
   "metadata": {},
   "source": [
    "Instead of 1, -1, assume a 1% amplitude loss along the 180 degree path. no time shift. "
   ]
  },
  {
   "cell_type": "code",
   "execution_count": null,
   "metadata": {},
   "outputs": [],
   "source": [
    "imbalanced_walsh = np.zeros_like(doubled)\n",
    "\n",
    "for i in range(32):\n",
    "    for j in range(len(imbalanced_walsh[i])):\n",
    "        if doubled[i][j] == 1:\n",
    "            imbalanced_walsh[i][j] = 1\n",
    "        if doubled[i][j] == -1:\n",
    "            imbalanced_walsh[i][j] = -.99"
   ]
  },
  {
   "cell_type": "code",
   "execution_count": null,
   "metadata": {},
   "outputs": [],
   "source": [
    "fig,ax = plt.subplots(32,1)\n",
    "fig.set_size_inches(18.5, 38.5)\n",
    "for i in range(32):\n",
    "    ax[i].plot(imbalanced_walsh[i], label=i)\n",
    "    ax[i].set_title('wal('+str(sorted_inds[i])+')')\n",
    "plt.legend()\n",
    "plt.tight_layout()\n",
    "plt.show()"
   ]
  },
  {
   "cell_type": "code",
   "execution_count": null,
   "metadata": {},
   "outputs": [],
   "source": [
    "crosstalkimb = np.zeros((32,32))\n",
    "for i in range(32):\n",
    "    shifted = imbalanced_walsh[i][0:3200]\n",
    "    for j in range(32):\n",
    "        stable = doubled[j][0:3200]\n",
    "        crossprod = shifted*stable \n",
    "        resid = np.sum(crossprod)\n",
    "        crosstalkimb[i,j] = resid/3200"
   ]
  },
  {
   "cell_type": "code",
   "execution_count": null,
   "metadata": {},
   "outputs": [],
   "source": [
    "plt.figure(figsize=(20,15))\n",
    "for i in range(32):\n",
    "    for j in range(32):\n",
    "        if i==j:\n",
    "            plt.title('Sequency vs. Sensitivity Loss')\n",
    "            plt.scatter(sorted_inds[i],((1-crosstalkimb[i][j])*100))\n",
    "            plt.xlabel('Sequency')\n",
    "            plt.ylabel('Sensitivity Loss (%)')"
   ]
  },
  {
   "cell_type": "code",
   "execution_count": null,
   "metadata": {},
   "outputs": [],
   "source": [
    "#RSS Crosstalk\n",
    "rssimb = []\n",
    "for i in range(32):\n",
    "    summed = 0 \n",
    "    for j in range(32):\n",
    "        if i==j:\n",
    "            pass\n",
    "        else:\n",
    "            summed += (crosstalkimb[i][j])**2\n",
    "    rssimb.append(np.sqrt(summed)*100)"
   ]
  },
  {
   "cell_type": "code",
   "execution_count": null,
   "metadata": {},
   "outputs": [],
   "source": [
    "plt.figure(figsize=(20,20))\n",
    "plt.imshow(crosstalkimb,  vmax=.001)\n",
    "plt.title('Crosstalk in amplitude imbalance')\n",
    "fig.set_size_inches(18.5, 18.5)"
   ]
  },
  {
   "cell_type": "code",
   "execution_count": null,
   "metadata": {},
   "outputs": [],
   "source": [
    "plt.figure(figsize=(20,15))\n",
    "plt.title('Sequency vs RSS Crosstalk')\n",
    "plt.xlabel('Sequency')\n",
    "plt.ylabel('RSS Crosstalk (%)')\n",
    "plt.scatter(sorted_inds,rssimb)"
   ]
  },
  {
   "cell_type": "markdown",
   "metadata": {},
   "source": [
    "# How about a varying signal?\n"
   ]
  },
  {
   "cell_type": "markdown",
   "metadata": {},
   "source": [
    "Try to replicate ALMA memo 565 appendix"
   ]
  },
  {
   "cell_type": "code",
   "execution_count": null,
   "metadata": {},
   "outputs": [],
   "source": [
    "# Set the parameters\n",
    "frequency = 0.006  # Frequency of the sine wave in Hz\n",
    "duration = 1  # Duration of the signal in seconds\n",
    "sampling_rate = 3200  # Sampling rate in Hz\n",
    "\n",
    "t = np.arange(0, duration, 1/sampling_rate)\n",
    "\n",
    "# Generate the sine wave\n",
    "sine_wave = np.sin(2 * np.pi * frequency * t)\n",
    "\n",
    "plt.figure(figsize=(20,15))\n",
    "plt.plot(t, sine_wave)\n",
    "plt.title(f\"Sine Wave with {frequency} Hz Frequency\")\n",
    "plt.xlabel(\"Time (seconds)\")\n",
    "plt.ylabel(\"Amplitude\")\n",
    "plt.grid(True)\n",
    "plt.show()"
   ]
  },
  {
   "cell_type": "code",
   "execution_count": null,
   "metadata": {},
   "outputs": [],
   "source": [
    "fig,ax = plt.subplots(32,1)\n",
    "fig.set_size_inches(18.5, 38.5)\n",
    "\n",
    "for i in range(32):\n",
    "    mod = sine_wave*doubled[i][0:3200]\n",
    "    ax[i].plot(mod)\n",
    "    ax[i].set_ylabel('wal('+str(i)+')', rotation=0, labelpad=30, fontsize=15)\n",
    "\n",
    "    \n",
    "plt.tight_layout \n",
    "plt.show()"
   ]
  },
  {
   "cell_type": "code",
   "execution_count": null,
   "metadata": {},
   "outputs": [],
   "source": [
    "crosstalk_single = []\n",
    "for i in range(32):\n",
    "    crosstalk = np.sum(sine_wave*doubled[i][0:3200])\n",
    "    normed = crosstalk/3200\n",
    "    crosstalk_single.append(normed)"
   ]
  },
  {
   "cell_type": "code",
   "execution_count": null,
   "metadata": {},
   "outputs": [],
   "source": [
    "plt.figure(figsize=(20,15))\n",
    "plt.title('Sequency vs Residual Signal After Integration')\n",
    "plt.xlabel('Sequency')\n",
    "plt.ylabel('Residual (Normed)')\n",
    "plt.scatter(sorted_inds, crosstalk_single)"
   ]
  },
  {
   "cell_type": "code",
   "execution_count": null,
   "metadata": {},
   "outputs": [],
   "source": [
    "crosstalk = np.zeros((32,32))\n",
    "for i in range(32):\n",
    "    for j in range(32):\n",
    "        mult1 = doubled[i][0:3200]*sine_wave\n",
    "        mult2 = doubled[j][0:3200]*sine_wave\n",
    "        crossprod = mult1*mult2\n",
    "        resid = np.sum(crossprod)\n",
    "        crosstalk[i,j] = resid/3200"
   ]
  },
  {
   "cell_type": "code",
   "execution_count": null,
   "metadata": {},
   "outputs": [],
   "source": [
    "plt.figure(figsize=(20,20))\n",
    "fig.set_size_inches(18.5, 10.5)\n",
    "plt.imshow(crosstalk)\n",
    "plt.title('Crosstalk in time Varying Signal')\n",
    "fig.set_size_inches(18.5, 18.5)"
   ]
  },
  {
   "cell_type": "code",
   "execution_count": null,
   "metadata": {},
   "outputs": [],
   "source": [
    "rss = []\n",
    "for i in range(32):\n",
    "    summed = 0 \n",
    "    for j in range(32):\n",
    "        if i==j:\n",
    "            pass\n",
    "        else:\n",
    "            summed += (crosstalk[i][j])**2\n",
    "    rss.append(np.sqrt(summed)*100)"
   ]
  },
  {
   "cell_type": "code",
   "execution_count": null,
   "metadata": {},
   "outputs": [],
   "source": [
    "plt.figure(figsize=(20,15))\n",
    "plt.title('Sequency vs RSS Crosstalk')\n",
    "plt.xlabel('Sequency')\n",
    "plt.ylabel('RSS Crosstalk (%)')\n",
    "plt.scatter(sorted_inds,rss)"
   ]
  },
  {
   "cell_type": "markdown",
   "metadata": {},
   "source": [
    "Try to loop through frequencies "
   ]
  },
  {
   "cell_type": "code",
   "execution_count": null,
   "metadata": {},
   "outputs": [],
   "source": [
    "# Set the parameters\n",
    "nfreqs = 50 \n",
    "freqs = np.linspace(0,2,nfreqs)\n",
    "sigs = []\n",
    "cross_freq = []\n",
    "\n",
    "\n",
    "for freq in freqs: \n",
    "    i = 0 \n",
    "    \n",
    "    frequency = freq  # Frequency of the sine wave in Hz\n",
    "    duration = 1  # Duration of the signal in seconds\n",
    "    sampling_rate = 3200  # Sampling rate in Hz\n",
    "\n",
    "    t = np.arange(0, duration, 1/sampling_rate)\n",
    "\n",
    "    # Generate the sine wave\n",
    "    sine_wave = np.sin(2 * np.pi * frequency * t)\n",
    "    sigs.append(sine_wave)\n",
    "    \n",
    "    crosstalk = np.zeros((32,32))\n",
    "    \n",
    "    for i in range(32):\n",
    "        for j in range(32):\n",
    "            mult1 = doubled[i][0:3200]*sine_wave\n",
    "            mult2 = doubled[j][0:3200]*sine_wave\n",
    "            crossprod = mult1*mult2\n",
    "            resid = np.sum(crossprod)\n",
    "            crosstalk[i,j] = resid/3200\n",
    "            \n",
    "            \n",
    "    rss = []\n",
    "    \n",
    "    for i in range(32):\n",
    "        summed = 0 \n",
    "        for j in range(32):\n",
    "            if i==j:\n",
    "                pass\n",
    "            else:\n",
    "                summed += (crosstalk[i][j])**2\n",
    "        rss.append(np.sqrt(summed)*100)\n",
    "    cross_freq.append(rss)\n",
    "    i+=1\n"
   ]
  },
  {
   "cell_type": "code",
   "execution_count": null,
   "metadata": {},
   "outputs": [],
   "source": [
    "for i in range(len(sigs)):\n",
    "    plt.plot(sigs[i])\n",
    "plt.show()"
   ]
  },
  {
   "cell_type": "code",
   "execution_count": null,
   "metadata": {},
   "outputs": [],
   "source": [
    "plt.figure(figsize=(20,20))\n",
    "plt.imshow(cross_freq)\n",
    "plt.xlabel('Walsh Sequency')\n",
    "plt.ylabel('Frequency #')"
   ]
  },
  {
   "cell_type": "code",
   "execution_count": null,
   "metadata": {},
   "outputs": [],
   "source": [
    "rssvfreq = [item[0] for item in cross_freq]"
   ]
  },
  {
   "cell_type": "code",
   "execution_count": null,
   "metadata": {},
   "outputs": [],
   "source": [
    "plt.plot(rssvfreq)"
   ]
  },
  {
   "cell_type": "markdown",
   "metadata": {},
   "source": [
    "Non Sinusoids"
   ]
  },
  {
   "cell_type": "code",
   "execution_count": null,
   "metadata": {},
   "outputs": [],
   "source": [
    "noise = np.random.normal(loc=0.0, scale=1.0, size=3200)\n",
    "plt.figure()\n",
    "plt.plot(noise)\n",
    "print(np.sum(noise))\n",
    "plt.figure()\n",
    "n = noise.size\n",
    "timestep = 1/sampling_rate\n",
    "freq = np.fft.fftfreq(n, d=timestep)\n",
    "plt.plot(freq, np.fft.fft(noise))\n",
    "crosstalk_single = []\n",
    "for i in range(32):\n",
    "    crosstalk = np.sum(noise*doubled[i][0:3200])\n",
    "    normed = crosstalk/3200\n",
    "    crosstalk_single.append(normed)"
   ]
  },
  {
   "cell_type": "code",
   "execution_count": null,
   "metadata": {},
   "outputs": [],
   "source": [
    "crosstalk = np.zeros((32,32))\n",
    "for i in range(32):\n",
    "    for j in range(32):\n",
    "        mult1 = doubled[i][0:3200]*noise\n",
    "        mult2 = doubled[j][0:3200]*noise\n",
    "        crossprod = mult1*mult2\n",
    "        resid = np.sum(crossprod)\n",
    "        crosstalk[i,j] = resid/3200"
   ]
  },
  {
   "cell_type": "code",
   "execution_count": null,
   "metadata": {},
   "outputs": [],
   "source": [
    "plt.figure(figsize=(20,20))\n",
    "fig.set_size_inches(18.5, 10.5)\n",
    "plt.imshow(crosstalk)\n",
    "plt.title('Crosstalk in Random Noise')\n",
    "fig.set_size_inches(18.5, 18.5)"
   ]
  },
  {
   "cell_type": "code",
   "execution_count": null,
   "metadata": {},
   "outputs": [],
   "source": [
    "rss = []\n",
    "    \n",
    "for i in range(32):\n",
    "    summed = 0 \n",
    "    for j in range(32):\n",
    "        if i==j:\n",
    "            pass\n",
    "        else:\n",
    "            summed += (crosstalk[i][j])**2\n",
    "    rss.append(np.sqrt(summed)*100)\n"
   ]
  },
  {
   "cell_type": "code",
   "execution_count": null,
   "metadata": {},
   "outputs": [],
   "source": [
    "plt.figure(figsize=(20,15))\n",
    "plt.title('Sequency vs RSS Crosstalk')\n",
    "plt.xlabel('Sequency')\n",
    "plt.ylabel('RSS Crosstalk (%)')\n",
    "plt.scatter(sorted_inds,rss)"
   ]
  },
  {
   "cell_type": "markdown",
   "metadata": {},
   "source": [
    "# Let's do a more realistic sim, with an FFT and HERA bandwidths"
   ]
  },
  {
   "cell_type": "code",
   "execution_count": null,
   "metadata": {},
   "outputs": [],
   "source": [
    "import numpy as np\n",
    "\n",
    "def pfb_fir_frontend(x, win_coeffs, M, P):\n",
    "    W = int(x.shape[0] / M / P)\n",
    "    x_p = x.reshape((W*M, P)).T\n",
    "    h_p = win_coeffs.reshape((M, P)).T\n",
    "    x_summed = np.zeros((P, M * W - M))\n",
    "    for t in range(0, M*W-M):\n",
    "        x_weighted = x_p[:, t:t+M] * h_p\n",
    "        x_summed[:, t] = x_weighted.sum(axis=1)\n",
    "    return x_summed.T\n",
    "\n",
    "def generate_win_coeffs(M, P, window_fn=\"hamming\"):\n",
    "    win_coeffs = scipy.signal.get_window(window_fn, M*P)\n",
    "    sinc       = scipy.signal.firwin(M * P, cutoff=1.0/P, window=\"rectangular\")\n",
    "    win_coeffs *= sinc\n",
    "    return win_coeffs\n",
    "\n",
    "def fft(x_p, P, axis=1):\n",
    "    return np.fft.rfft(x_p, P, axis=axis)\n",
    "\n",
    "def pfb_filterbank(x, win_coeffs, M, P):\n",
    "    x_fir = pfb_fir_frontend(x, win_coeffs, M, P)\n",
    "    x_pfb = fft(x_fir, P)\n",
    "    return x_pfb\n",
    "\n",
    "def pfb_spectrometer(x, n_taps, n_chan, n_int, window_fn=\"hamming\"):\n",
    "    M = n_taps\n",
    "    P = n_chan\n",
    "    \n",
    "    # Generate window coefficients\n",
    "    win_coeffs = generate_win_coeffs(M, P, window_fn)\n",
    "\n",
    "    # Apply frontend, take FFT, then take power (i.e. square)\n",
    "    x_fir = pfb_fir_frontend(x, win_coeffs, M, P)\n",
    "    x_pfb = fft(x_fir, P)\n",
    "    x_psd = np.abs(x_pfb)**2\n",
    "    \n",
    "    # Trim array so we can do time integration\n",
    "    x_psd = x_psd[:np.round(x_psd.shape[0]//n_int)*n_int]\n",
    "    \n",
    "    # Integrate over time, by reshaping and summing over axis (efficient)\n",
    "    x_psd = x_psd.reshape(x_psd.shape[0]//n_int, n_int, x_psd.shape[1])\n",
    "    x_psd = x_psd.mean(axis=1)\n",
    "    \n",
    "    return x_psd\n",
    "\n",
    "def db(x):\n",
    "    \"\"\" Convert linear value to dB value \"\"\"\n",
    "    return 10*np.log10(x)"
   ]
  },
  {
   "cell_type": "markdown",
   "metadata": {},
   "source": [
    "# What does white noise look like?"
   ]
  },
  {
   "cell_type": "code",
   "execution_count": null,
   "metadata": {},
   "outputs": [],
   "source": [
    "from scipy.signal import butter, lfilter\n",
    "from numpy.fft import fft, fftfreq\n",
    "\n",
    "# Parameters\n",
    "sample_rate = 2000  # Sampling rate in MHz\n",
    "duration = 1.0  # Duration in seconds\n",
    "freq_range = (70, 100)  # Frequency range in MHz\n",
    "\n",
    "# Generate time vector\n",
    "t = np.linspace(0, duration, int(sample_rate * duration), endpoint=False)\n",
    "\n",
    "# Generate white noise\n",
    "white_noise = np.random.normal(0, 1, len(t))\n",
    "\n",
    "# Design a bandpass filter\n",
    "nyquist = 0.5 * sample_rate\n",
    "low = freq_range[0] / nyquist\n",
    "high = freq_range[1] / nyquist\n",
    "b, a = butter(4, [low, high], btype='band')\n",
    "\n",
    "\n",
    "band_limited_noise = lfilter(b, a, white_noise)\n",
    "\n",
    "# Compute FFT for the original white noise\n",
    "fft_white_noise = fft(white_noise)\n",
    "freqs_white_noise = fftfreq(len(t), 1 / sample_rate)\n",
    "\n",
    "# Compute FFT for the band-limited white noise\n",
    "fft_band_limited_noise = fft(band_limited_noise)\n",
    "freqs_band_limited_noise = fftfreq(len(t), 1 / sample_rate)\n",
    "\n",
    "# Plotting\n",
    "plt.figure(figsize=(14, 10))\n",
    "\n",
    "plt.subplot(3, 2, 1)\n",
    "plt.plot(t, white_noise)\n",
    "plt.title('White Noise Time Series')\n",
    "plt.xlabel('Time (s)')\n",
    "plt.ylabel('Amplitude')\n",
    "\n",
    "plt.subplot(3, 2, 2)\n",
    "plt.plot(freqs_white_noise, np.abs(fft_white_noise))\n",
    "plt.title('Frequency Spectrum (Original White Noise)')\n",
    "plt.xlabel('Frequency (MHz)')\n",
    "plt.ylabel('Amplitude')\n",
    "plt.xlim(0, sample_rate / 2)\n",
    "\n",
    "plt.subplot(3, 2, 3)\n",
    "plt.plot(t, band_limited_noise)\n",
    "plt.title('Band-Limited White Noise Time Series')\n",
    "plt.xlabel('Time (s)')\n",
    "plt.ylabel('Amplitude')\n",
    "\n",
    "plt.subplot(3, 2, 4)\n",
    "plt.plot(freqs_band_limited_noise, np.abs(fft_band_limited_noise))\n",
    "plt.title('Frequency Spectrum (Band-Limited White Noise)')\n",
    "plt.xlabel('Frequency (MHz)')\n",
    "plt.ylabel('Amplitude')\n",
    "plt.xlim(0, sample_rate / 2)\n",
    "\n",
    "plt.tight_layout()\n",
    "plt.show()"
   ]
  },
  {
   "cell_type": "code",
   "execution_count": null,
   "metadata": {},
   "outputs": [],
   "source": [
    "M     = 4          # Number of taps\n",
    "P     = 1024       # Number of 'branches', also fft length\n",
    "W     = 100       # Number of windows of length M*P in input time stream\n",
    "n_int = 1          # Number of time integrations on output data\n",
    "\n",
    "\n",
    "sample_rate = 500  # Sampling rate in MHz\n",
    "duration = M*P*W*32  # Duration in seconds\n",
    "\n",
    "# Generate time vector\n",
    "t = np.linspace(0, duration, int(sample_rate * duration), endpoint=False)\n",
    "\n",
    "samples = M*P*W\n",
    "\n",
    "freq_range = (70, 100)  # Frequency range in MHz\n",
    "\n",
    "# Generate white noise\n",
    "white_noise = np.random.normal(0, 1, len(t))\n",
    "\n",
    "# Design a bandpass filter\n",
    "nyquist = 0.5 * sample_rate\n",
    "low = freq_range[0] / nyquist\n",
    "high = freq_range[1] / nyquist\n",
    "b, a = butter(4, [low, high], btype='band')\n",
    "\n",
    "\n",
    "integration_time = 1\n",
    "\n",
    "band_limited_noise = lfilter(b, a, white_noise)\n",
    "\n",
    "result_spectrum =  pfb_spectrometer(band_limited_noise, n_taps=M, n_chan=P, n_int=n_int, window_fn=\"hamming\")"
   ]
  },
  {
   "cell_type": "code",
   "execution_count": null,
   "metadata": {},
   "outputs": [],
   "source": [
    "from numpy.fft import fft, rfftfreq\n",
    "print(result_spectrum.shape)\n",
    "freqs_band_limited_noise = rfftfreq(P*2-1, 1 / sample_rate)\n",
    "print(freqs_band_limited_noise.shape)"
   ]
  },
  {
   "cell_type": "code",
   "execution_count": null,
   "metadata": {},
   "outputs": [],
   "source": [
    "plt.plot(freqs_band_limited_noise, db(result_spectrum[0]))"
   ]
  },
  {
   "cell_type": "code",
   "execution_count": null,
   "metadata": {},
   "outputs": [],
   "source": [
    "plt.imshow(db(result_spectrum), cmap='viridis', aspect='auto')\n",
    "plt.colorbar()\n",
    "plt.xlabel(\"Channel\")\n",
    "plt.ylabel(\"Time\")\n",
    "plt.show()"
   ]
  },
  {
   "cell_type": "code",
   "execution_count": null,
   "metadata": {},
   "outputs": [],
   "source": [
    "result_spectrum_long =  pfb_spectrometer(band_limited_noise, n_taps=M, n_chan=P, n_int=199996//1024, window_fn=\"hamming\")\n",
    "plt.plot(db(result_spectrum[0]))\n",
    "plt.plot(db(result_spectrum_long[0]))"
   ]
  },
  {
   "cell_type": "code",
   "execution_count": null,
   "metadata": {},
   "outputs": [],
   "source": [
    "plt.imshow(db(result_spectrum_long), cmap='viridis', aspect='auto')\n",
    "plt.colorbar()\n",
    "plt.xlabel(\"Channel\")\n",
    "plt.ylabel(\"Time\")\n",
    "plt.show()"
   ]
  },
  {
   "cell_type": "code",
   "execution_count": null,
   "metadata": {},
   "outputs": [],
   "source": [
    "def pfb_spectrometer_walsh(x, n_taps, n_chan, n_int, window_fn=\"hamming\"):\n",
    "    M = n_taps\n",
    "    P = n_chan\n",
    "    \n",
    "    # Generate window coefficients\n",
    "    win_coeffs = generate_win_coeffs(M, P, window_fn)\n",
    "\n",
    "    \n",
    "    #extend the number of samples for the walsh function to match the signal length \n",
    "    print(walsh_matrix.shape)\n",
    "    period_base = x.shape[0]/32\n",
    "    walshextended = np.zeros((32,x.shape[0]))\n",
    "    print(walshextended.shape)\n",
    "    for i in range(32):\n",
    "    n= 0\n",
    "    n2 = period_base\n",
    "    for j in range(32):\n",
    "        extended = np.array(walsh_matrix[i][j].repeat(period_base))\n",
    "        walshextended[i][n:n2] = extended\n",
    "        n += period_base\n",
    "        n2 += period_base\n",
    "    \n",
    "    #apply walsh function \n",
    "    modulated = walshextended*x\n",
    "    \n",
    "    # Apply frontend, take FFT, then take power (i.e. square)\n",
    "    x_fir = pfb_fir_frontend(x, win_coeffs, M, P)\n",
    "    x_pfb = fft(x_fir, P)\n",
    "    #x_psd = np.abs(x_pfb)**2\n",
    "    \n",
    "    # Trim array so we can do time integration\n",
    "    x_psd = x_pfb[:np.round(x_psd.shape[0]//n_int)*n_int]\n",
    "    \n",
    "    # Integrate over time, by reshaping and summing over axis (efficient)\n",
    "    x_psd = x_psd.reshape(x_psd.shape[0]//n_int, n_int, x_psd.shape[1])\n",
    "    x_psd = x_psd.mean(axis=1)\n",
    "    \n",
    "    return x_psd\n"
   ]
  },
  {
   "cell_type": "code",
   "execution_count": null,
   "metadata": {},
   "outputs": [],
   "source": [
    "result_spectrum_walsh =  pfb_spectrometer(band_limited_noise, n_taps=M, n_chan=P, n_int=1, window_fn=\"hamming\")"
   ]
  },
  {
   "cell_type": "code",
   "execution_count": null,
   "metadata": {},
   "outputs": [],
   "source": [
    "plt.imshow(db(result_spectrum_walsh), cmap='viridis', aspect='auto')\n",
    "plt.colorbar()\n",
    "plt.xlabel(\"Channel\")\n",
    "plt.ylabel(\"Time\")\n",
    "plt.show()"
   ]
  },
  {
   "cell_type": "code",
   "execution_count": null,
   "metadata": {},
   "outputs": [],
   "source": [
    "plt.plot(db(result_spectrum_walsh[0]))"
   ]
  },
  {
   "cell_type": "code",
   "execution_count": null,
   "metadata": {},
   "outputs": [],
   "source": []
  }
 ],
 "metadata": {
  "kernelspec": {
   "display_name": "Python 3",
   "language": "python",
   "name": "python3"
  },
  "language_info": {
   "codemirror_mode": {
    "name": "ipython",
    "version": 3
   },
   "file_extension": ".py",
   "mimetype": "text/x-python",
   "name": "python",
   "nbconvert_exporter": "python",
   "pygments_lexer": "ipython3",
   "version": "3.7.9"
  }
 },
 "nbformat": 4,
 "nbformat_minor": 4
}
